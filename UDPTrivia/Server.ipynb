{
 "cells": [
  {
   "cell_type": "markdown",
   "id": "511cc3b0",
   "metadata": {},
   "source": [
    "## UDP Server"
   ]
  },
  {
   "cell_type": "code",
   "execution_count": 3,
   "id": "ad2fae7a",
   "metadata": {
    "scrolled": true
   },
   "outputs": [
    {
     "name": "stdout",
     "output_type": "stream",
     "text": [
      "- Waiting for a client...\n",
      "- Listening in 127.0.0.1:6700\n",
      "Message from client 1: ASK\n",
      "Server sending question:  The board game Monopoly takes its street names from which real American city?\n",
      "All answers:  ['Las Vegas, Nevada', 'Duluth, Minnesota', 'Charleston, South Carolina', 'Atlantic City, New Jersey']\n",
      "Message from client 1: ANSWER\n",
      "Client answer  Las Vegas, Nevada\n",
      "Client sent incorrect answer.\n",
      "Message from client 1: ASK\n",
      "Server sending question:  In Splatoon, the Squid Sisters are named Tako and Yaki.\n",
      "All answers:  ['True', 'False']\n",
      "Message from client 1: ANSWER\n",
      "Client answer  True\n",
      "Client sent incorrect answer.\n",
      "Message from client 1: ASK\n",
      "Server sending question:  What is the name of the world that the MMO &quot;RuneScape&quot; takes place in?\n",
      "All answers:  ['Glindor', 'Azeroth', 'Zaros', 'Gielinor']\n",
      "Message from client 1: ANSWER\n",
      "Client answer  Zaros\n",
      "Client sent incorrect answer.\n",
      "Message from client 1: ASK\n",
      "Server sending question:  In the 2016 Global Peace Index poll, out of 163 countries, what was the United States of America ranked?\n",
      "All answers:  ['10', '59', '79', '103']\n",
      "Message from client 1: ANSWER\n",
      "Client answer  59\n",
      "Client sent incorrect answer.\n",
      "Message from client 1: ASK\n",
      "Server sending question:  The fraudelent doctor John R. Brinkley acummulated great fame and wealth in the early 1900s offering what service?\n",
      "All answers:  ['Pig blood transfusion', 'Cow liver transplant', 'Turkey breast implants', 'Goat testicles transplant']\n",
      "Message from client 1: ANSWER\n",
      "Client answer  Pig blood transfusion\n",
      "Client sent incorrect answer.\n",
      "Game Over, correct answers  0\n"
     ]
    },
    {
     "data": {
      "text/plain": [
       "78"
      ]
     },
     "execution_count": 3,
     "metadata": {},
     "output_type": "execute_result"
    }
   ],
   "source": [
    "import socket\n",
    "import pickle\n",
    "import requests\n",
    "\n",
    "bytes_ErrorAPI = str.encode(\"Error al generar una pregunta\")\n",
    "\n",
    "host = \"127.0.0.1\"\n",
    "port = 6700\n",
    "server_adress = (host, port)\n",
    "\n",
    "print(\"- Waiting for a client...\")\n",
    "print(\"- Listening in {}:{}\".format(host,port))\n",
    "\n",
    "socket = socket.socket(family=socket.AF_INET, type=socket.SOCK_DGRAM)\n",
    "socket.bind((host, port))\n",
    "\n",
    "correctas = 0\n",
    "\n",
    "#https://opentdb.com/api_config.php\n",
    "#API Call (Generamos 10 preguntas aleatorias de cualquier tipo)\n",
    "response = requests.get(\"https://opentdb.com/api.php?amount=10\")\n",
    "\n",
    "#Continua mandando preguntas hasta que haga todas las que ha enviado la API\n",
    "for i in range(len(response.json()[\"results\"])):\n",
    "    \n",
    "    #Por si falla la API\n",
    "    if (response.status_code != requests.codes.ok):\n",
    "        socket.sendto(bytes_ErrorAPI, server_adress)\n",
    "        print(\"Error:\", response.status_code, response.text)\n",
    "        break\n",
    "\n",
    "    bytes_rx = socket.recvfrom(1024)\n",
    "    packed = bytes_rx[0]\n",
    "    data = pickle.loads(packed)\n",
    "    \n",
    "    server_adress = bytes_rx[1]\n",
    "    #print(\"Recieved packed: \", packed)\n",
    "    \n",
    "    print(\"Message from client \" + str(data[1]) + \": \" + data[0])\n",
    "    \n",
    "    #EL cliente pide al server una pregunta\n",
    "    if (data[0] == \"ASK\"):\n",
    "        \n",
    "        #Response is a JSON\n",
    "        question = response.json()[\"results\"][i][\"question\"]\n",
    "\n",
    "        print(\"Server sending question: \", question)\n",
    "\n",
    "        correct_answ = response.json()[\"results\"][i][\"correct_answer\"]\n",
    "        incorrect_answrs = response.json()[\"results\"][i][\"incorrect_answers\"]\n",
    "\n",
    "        incorrect_answrs.append(correct_answ)\n",
    "        \n",
    "        print(\"All answers: \", incorrect_answrs)\n",
    "\n",
    "        pack = (question, incorrect_answrs)\n",
    "        send = pickle.dumps(pack)\n",
    "        socket.sendto(send, server_adress)\n",
    "            \n",
    "    #Comprobación de la respuesta del cliente\n",
    "    elif (data[0] == \"ANSWER\"):\n",
    "        print(\"Client answer \", data[2])\n",
    "\n",
    "        if (data[2] == correct_answ):\n",
    "            print(\"Client sent correct answer.\")\n",
    "            socket.sendto(pickle.dumps((\"Correcto!\")), server_adress)\n",
    "            correctas +=1\n",
    "        else:\n",
    "            print(\"Client sent incorrect answer.\")\n",
    "            incorrecto = (\"Incorrecto! La respuesta correcta era: \" + correct_answ)\n",
    "            socket.sendto(pickle.dumps(incorrecto), server_adress)\n",
    "            \n",
    "fin = \"El juego ha terminado, respondiste correctamente a \" + str(correctas) + \" preguntas.\"\n",
    "print(\"Game Over, correct answers \", correctas)\n",
    "socket.sendto(pickle.dumps(fin), server_adress)"
   ]
  },
  {
   "cell_type": "code",
   "execution_count": null,
   "id": "30c1d168",
   "metadata": {},
   "outputs": [],
   "source": []
  }
 ],
 "metadata": {
  "kernelspec": {
   "display_name": "Python 3 (ipykernel)",
   "language": "python",
   "name": "python3"
  },
  "language_info": {
   "codemirror_mode": {
    "name": "ipython",
    "version": 3
   },
   "file_extension": ".py",
   "mimetype": "text/x-python",
   "name": "python",
   "nbconvert_exporter": "python",
   "pygments_lexer": "ipython3",
   "version": "3.11.3"
  }
 },
 "nbformat": 4,
 "nbformat_minor": 5
}
