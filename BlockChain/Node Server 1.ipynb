{
 "cells": [
  {
   "cell_type": "markdown",
   "id": "56ae3137",
   "metadata": {},
   "source": [
    "# Node Server 1"
   ]
  },
  {
   "cell_type": "code",
   "execution_count": null,
   "id": "4a67892b",
   "metadata": {},
   "outputs": [
    {
     "name": "stdout",
     "output_type": "stream",
     "text": [
      " * Serving Flask app 'flaskInterface'\n",
      " * Debug mode: off\n"
     ]
    },
    {
     "name": "stderr",
     "output_type": "stream",
     "text": [
      "WARNING: This is a development server. Do not use it in a production deployment. Use a production WSGI server instead.\n",
      " * Running on http://127.0.0.1:8000\n",
      "Press CTRL+C to quit\n",
      "127.0.0.1 - - [26/Apr/2024 21:39:31] \"POST /new_transaction HTTP/1.1\" 201 -\n",
      "127.0.0.1 - - [26/Apr/2024 21:39:38] \"POST /new_transaction HTTP/1.1\" 201 -\n",
      "127.0.0.1 - - [26/Apr/2024 21:39:39] \"GET /pending_transactions HTTP/1.1\" 200 -\n",
      "127.0.0.1 - - [26/Apr/2024 21:40:06] \"GET /mine HTTP/1.1\" 201 -\n",
      "127.0.0.1 - - [26/Apr/2024 21:40:19] \"GET /chain HTTP/1.1\" 200 -\n",
      "127.0.0.1 - - [26/Apr/2024 21:41:51] \"POST /register_new_node HTTP/1.1\" 200 -\n",
      "127.0.0.1 - - [26/Apr/2024 21:43:10] \"GET /chain HTTP/1.1\" 200 -\n",
      "127.0.0.1 - - [26/Apr/2024 21:46:46] \"GET /chain HTTP/1.1\" 200 -\n",
      "127.0.0.1 - - [26/Apr/2024 21:46:46] \"GET /chain HTTP/1.1\" 200 -\n",
      "127.0.0.1 - - [26/Apr/2024 21:46:46] \"POST /add_block HTTP/1.1\" 201 -\n",
      "127.0.0.1 - - [26/Apr/2024 21:48:49] \"GET /chain HTTP/1.1\" 200 -\n"
     ]
    }
   ],
   "source": [
    "from library import Block\n",
    "from library import Blockchain\n",
    "from flaskInterface import *\n",
    "import requests\n",
    "import json\n",
    "\n",
    "#bloque = Block(1,2,3,4)\n",
    "#bloque.compute_hash()\n",
    "\n",
    "if __name__ == '__main__':\n",
    "    app.run(port=8000)"
   ]
  },
  {
   "cell_type": "code",
   "execution_count": null,
   "id": "32ac9696",
   "metadata": {},
   "outputs": [],
   "source": []
  },
  {
   "cell_type": "code",
   "execution_count": null,
   "id": "d870e10e",
   "metadata": {},
   "outputs": [],
   "source": []
  }
 ],
 "metadata": {
  "kernelspec": {
   "display_name": "Python 3 (ipykernel)",
   "language": "python",
   "name": "python3"
  },
  "language_info": {
   "codemirror_mode": {
    "name": "ipython",
    "version": 3
   },
   "file_extension": ".py",
   "mimetype": "text/x-python",
   "name": "python",
   "nbconvert_exporter": "python",
   "pygments_lexer": "ipython3",
   "version": "3.11.3"
  }
 },
 "nbformat": 4,
 "nbformat_minor": 5
}
