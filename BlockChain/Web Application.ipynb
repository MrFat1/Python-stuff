{
 "cells": [
  {
   "cell_type": "markdown",
   "id": "0e99773c",
   "metadata": {},
   "source": [
    "# Web App"
   ]
  },
  {
   "cell_type": "code",
   "execution_count": null,
   "id": "8f7551e0",
   "metadata": {},
   "outputs": [
    {
     "name": "stdout",
     "output_type": "stream",
     "text": [
      " * Serving Flask app 'ipynb.fs.full.WebApp'\n",
      " * Debug mode: off\n"
     ]
    },
    {
     "name": "stderr",
     "output_type": "stream",
     "text": [
      "WARNING: This is a development server. Do not use it in a production deployment. Use a production WSGI server instead.\n",
      " * Running on http://127.0.0.1:5000\n",
      "Press CTRL+C to quit\n",
      "127.0.0.1 - - [26/Apr/2024 21:37:49] \"GET / HTTP/1.1\" 200 -\n",
      "127.0.0.1 - - [26/Apr/2024 21:37:55] \"POST /main_page HTTP/1.1\" 200 -\n",
      "127.0.0.1 - - [26/Apr/2024 21:39:31] \"POST /submit_transaction HTTP/1.1\" 302 -\n",
      "127.0.0.1 - - [26/Apr/2024 21:39:31] \"GET /main_page HTTP/1.1\" 200 -\n",
      "127.0.0.1 - - [26/Apr/2024 21:39:38] \"POST /submit_transaction HTTP/1.1\" 302 -\n",
      "127.0.0.1 - - [26/Apr/2024 21:39:38] \"GET /main_page HTTP/1.1\" 200 -\n",
      "127.0.0.1 - - [26/Apr/2024 21:39:39] \"GET /fetch_pending HTTP/1.1\" 302 -\n",
      "127.0.0.1 - - [26/Apr/2024 21:39:39] \"GET /main_page HTTP/1.1\" 200 -\n",
      "127.0.0.1 - - [26/Apr/2024 21:40:19] \"GET /fetch_chain HTTP/1.1\" 302 -\n",
      "127.0.0.1 - - [26/Apr/2024 21:40:19] \"GET /main_page HTTP/1.1\" 200 -\n"
     ]
    }
   ],
   "source": [
    "from ipynb.fs.full.WebApp import app\n",
    "\n",
    "app.run(debug=False)"
   ]
  },
  {
   "cell_type": "code",
   "execution_count": null,
   "id": "0af1738b",
   "metadata": {},
   "outputs": [],
   "source": []
  },
  {
   "cell_type": "code",
   "execution_count": null,
   "id": "dc58d635",
   "metadata": {},
   "outputs": [],
   "source": []
  }
 ],
 "metadata": {
  "kernelspec": {
   "display_name": "Python 3 (ipykernel)",
   "language": "python",
   "name": "python3"
  },
  "language_info": {
   "codemirror_mode": {
    "name": "ipython",
    "version": 3
   },
   "file_extension": ".py",
   "mimetype": "text/x-python",
   "name": "python",
   "nbconvert_exporter": "python",
   "pygments_lexer": "ipython3",
   "version": "3.11.3"
  }
 },
 "nbformat": 4,
 "nbformat_minor": 5
}
