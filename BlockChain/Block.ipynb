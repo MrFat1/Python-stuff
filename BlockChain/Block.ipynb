{
 "cells": [
  {
   "cell_type": "markdown",
   "id": "2df0b84a",
   "metadata": {},
   "source": [
    "## Blockchain"
   ]
  },
  {
   "cell_type": "markdown",
   "id": "9d6efc93",
   "metadata": {},
   "source": [
    "#### Definición del bloque"
   ]
  },
  {
   "cell_type": "code",
   "execution_count": 1,
   "id": "12db5bc5",
   "metadata": {},
   "outputs": [],
   "source": [
    "import hashlib\n",
    "from hashlib import sha256\n",
    "import json\n",
    "\n",
    "# Eslabones de la cadena\n",
    "class Block():\n",
    "    def __init__(self, index, transactions, timestamp, previous_hash):\n",
    "        \"\"\"\n",
    "        Constructor for a 'Block' class.\n",
    "        : param index: The unique ID number of a block\n",
    "        : transactions: List of transactions\n",
    "        : timestamp: Block creatiom time\n",
    "        : previous_hash: Contains the hash value of the preceding block in the chain\n",
    "        \"\"\"\n",
    "        self.index = index\n",
    "        self.transactions = transactions\n",
    "        self.timestamp = timestamp\n",
    "        self.previous_hash = previous_hash\n",
    "        self.current_hash = None\n",
    "        self.nonce = None\n",
    "        \n",
    "    def compute_hash(self):\n",
    "        \"\"\"\n",
    "        Converts the block object into a JSON string and then returns the hash value\n",
    "        \"\"\"\n",
    "        block_string = json.dumps(self.__dict__, sort_keys = True)\n",
    "        final_hash = hashlib.sha256(block_string.encode()).hexdigest()\n",
    "        \n",
    "        return final_hash"
   ]
  },
  {
   "cell_type": "code",
   "execution_count": 2,
   "id": "942300a9",
   "metadata": {},
   "outputs": [
    {
     "data": {
      "text/plain": [
       "'cf87ec7aacb4531088de9ead28b5554700ed2735132021264395bd01fb1fa9b4'"
      ]
     },
     "execution_count": 2,
     "metadata": {},
     "output_type": "execute_result"
    }
   ],
   "source": [
    "bloque = Block(1,2,3,4)\n",
    "bloque.compute_hash()"
   ]
  },
  {
   "cell_type": "markdown",
   "id": "fbdb2ec0",
   "metadata": {},
   "source": [
    "#### Definición de la cadena"
   ]
  },
  {
   "cell_type": "code",
   "execution_count": 3,
   "id": "631f54ef",
   "metadata": {},
   "outputs": [],
   "source": [
    "import time\n",
    "import json\n",
    "\n",
    "class Blockchain():\n",
    "    def __init__(self, difficulty=2):\n",
    "        \n",
    "        self.unconfirmed_transactions = []\n",
    "        self.chain = []\n",
    "        self.create_genesis_block()\n",
    "        self.difficulty =  difficulty # for the POW algorithm\n",
    "        \n",
    "    def create_genesis_block(self):\n",
    "        \n",
    "        genesis = Block(0, [], time.time(), \"0\")\n",
    "        genesis.current_hash = genesis.compute_hash()\n",
    "        self.chain.append(genesis)\n",
    "        \n",
    "    def last_block(self):\n",
    "        return self.chain[-1] #last block\n",
    "    \n",
    "    def proof_of_work(self, block):\n",
    "        \n",
    "        block.nonce = 0\n",
    "        generated_hash =  block.compute_hash()\n",
    "        patron = '0' * self.difficulty\n",
    "        \n",
    "        start =  time.time()\n",
    "        while not generated_hash.startswith(patron):\n",
    "            block.nonce +=1\n",
    "            generated_hash = block.compute_hash()\n",
    "        end = time.time()\n",
    "        total_time =  end-start\n",
    "            \n",
    "        return generated_hash, total_time\n",
    "        \n",
    "    def is_valid_proof(self, block, block_hs):\n",
    "        patron = '0' * self.difficulty\n",
    "        \n",
    "        if not block_hs.startswith(patron):\n",
    "            return False\n",
    "        \n",
    "        computed_hash = block.compute_hash()\n",
    "        if computed_hash != block_hs:\n",
    "            return False\n",
    "        \n",
    "        return True\n",
    "    \n",
    "    def append_block(self, newblock, newblock_hs):\n",
    "        \n",
    "        if (newblock.previous_hash != self.last_block().current_hash):\n",
    "            return False\n",
    "        \n",
    "        if (self.is_valid_proof(newblock, newblock_hs) != True):\n",
    "            return False\n",
    "        \n",
    "        newblock.current_hash = newblock_hs\n",
    "        self.chain.append(newblock)\n",
    "        \n",
    "        return True\n",
    "    \n",
    "    def add_new_transaction(self, transaccion):\n",
    "        \n",
    "        self.unconfirmed_transactions.append(transaccion)\n",
    "        \n",
    "    def mine(self):\n",
    "        \n",
    "        if not self.unconfirmed_transactions:\n",
    "            return False\n",
    "        \n",
    "        new_block = Block(index = self.last_block().index + 1,\n",
    "                          transactions =  self.unconfirmed_transactions,\n",
    "                          timestamp =  time.time(),\n",
    "                          previous_hash = self.last_block().current_hash)\n",
    "        \n",
    "        proof, tot_time = self.proof_of_work(new_block)\n",
    "        self.append_block(new_block, proof)\n",
    "        self.unconfirmed_transactions.clear()\n",
    "        \n",
    "        return new_block.index"
   ]
  },
  {
   "cell_type": "code",
   "execution_count": 4,
   "id": "b05759a3",
   "metadata": {},
   "outputs": [
    {
     "data": {
      "text/plain": [
       "{'index': 0,\n",
       " 'transactions': [],\n",
       " 'timestamp': 1713779574.9279058,\n",
       " 'previous_hash': '0',\n",
       " 'current_hash': '2d22cf67012d823ad614a9077b6b396ab34843d5758a76e0496ab63372c61778',\n",
       " 'nonce': None}"
      ]
     },
     "execution_count": 4,
     "metadata": {},
     "output_type": "execute_result"
    }
   ],
   "source": [
    "blockchain = Blockchain(difficulty=4)\n",
    "blockchain.last_block().__dict__"
   ]
  },
  {
   "cell_type": "code",
   "execution_count": 5,
   "id": "e7f7bb84",
   "metadata": {},
   "outputs": [
    {
     "data": {
      "text/plain": [
       "{'index': 1,\n",
       " 'transactions': [],\n",
       " 'timestamp': 1713258648.5525095,\n",
       " 'previous_hash': '66396e77317e8b5747d2a9c291fbfa3db35419be6a29c12c50fe9b9398657a44',\n",
       " 'current_hash': None,\n",
       " 'nonce': None}"
      ]
     },
     "execution_count": 5,
     "metadata": {},
     "output_type": "execute_result"
    }
   ],
   "source": [
    "new_index = blockchain.last_block().index+1\n",
    "new_transaction = []\n",
    "new_timestamp = time.time()\n",
    "new_previous_hash = blockchain.last_block().current_hash\n",
    "newblock = Block(new_index, new_transaction, new_timestamp, new_previous_hash)\n",
    "\n",
    "newblock.__dict__"
   ]
  },
  {
   "cell_type": "code",
   "execution_count": 6,
   "id": "64021360",
   "metadata": {},
   "outputs": [
    {
     "name": "stdout",
     "output_type": "stream",
     "text": [
      "00008ecb582c2288f1281e1e1a552d36eedf52cf5c2e1c7497fa2ac321a9d5a6\n",
      "1.1718077659606934\n"
     ]
    }
   ],
   "source": [
    "Hash, total_time = blockchain.proof_of_work(newblock)\n",
    "print(Hash)\n",
    "print(total_time)"
   ]
  },
  {
   "cell_type": "code",
   "execution_count": 7,
   "id": "b110f827",
   "metadata": {},
   "outputs": [
    {
     "data": {
      "text/plain": [
       "100593"
      ]
     },
     "execution_count": 7,
     "metadata": {},
     "output_type": "execute_result"
    }
   ],
   "source": [
    "newblock.nonce"
   ]
  },
  {
   "cell_type": "code",
   "execution_count": 8,
   "id": "8dee7060",
   "metadata": {},
   "outputs": [
    {
     "data": {
      "image/png": "[encoded data removed]",
      "text/plain": [
       "<Figure size 640x480 with 1 Axes>"
      ]
     },
     "metadata": {},
     "output_type": "display_data"
    }
   ],
   "source": [
    "import matplotlib.pyplot as plt\n",
    "\n",
    "times = []\n",
    "for i in range(7):\n",
    "    blockchain = Blockchain(difficulty=i)\n",
    "    last_block = blockchain.last_block()\n",
    "    hs, nonce_time = blockchain.proof_of_work(last_block)\n",
    "    times.append(nonce_time)\n",
    "    \n",
    "plt.plot(range(7), times)\n",
    "plt.xlabel(\"Difficulty\")\n",
    "plt.ylabel(\"Time\")\n",
    "plt.grid(True)\n",
    "plt.show()"
   ]
  },
  {
   "cell_type": "markdown",
   "id": "1ab2e065",
   "metadata": {},
   "source": [
    "#### Minado de bloques"
   ]
  },
  {
   "cell_type": "code",
   "execution_count": 5,
   "id": "7437f79f",
   "metadata": {},
   "outputs": [
    {
     "data": {
      "text/plain": [
       "{'index': 0,\n",
       " 'transactions': [],\n",
       " 'timestamp': 1713779579.3984556,\n",
       " 'previous_hash': '0',\n",
       " 'current_hash': '938f85250dbce9b15d4bff9d66145103cf4e52d0589548324a73585145fe6e59',\n",
       " 'nonce': None}"
      ]
     },
     "execution_count": 5,
     "metadata": {},
     "output_type": "execute_result"
    }
   ],
   "source": [
    "blockchain = Blockchain()\n",
    "blockchain.last_block().__dict__"
   ]
  },
  {
   "cell_type": "code",
   "execution_count": 6,
   "id": "ccae8499",
   "metadata": {},
   "outputs": [
    {
     "name": "stdout",
     "output_type": "stream",
     "text": [
      "Length of the BCh:  1\n"
     ]
    }
   ],
   "source": [
    "print(\"Length of the BCh: \", len(blockchain.chain))"
   ]
  },
  {
   "cell_type": "code",
   "execution_count": 7,
   "id": "12657d7e",
   "metadata": {},
   "outputs": [
    {
     "data": {
      "text/plain": [
       "{'index': 1,\n",
       " 'transactions': [],\n",
       " 'timestamp': 1713779579.7152436,\n",
       " 'previous_hash': '938f85250dbce9b15d4bff9d66145103cf4e52d0589548324a73585145fe6e59',\n",
       " 'current_hash': None,\n",
       " 'nonce': None}"
      ]
     },
     "execution_count": 7,
     "metadata": {},
     "output_type": "execute_result"
    }
   ],
   "source": [
    "new_index = blockchain.last_block().index+1\n",
    "new_transaction = []\n",
    "new_timestamp = time.time()\n",
    "new_previous_hash = blockchain.last_block().current_hash\n",
    "newblock = Block(new_index, new_transaction, new_timestamp, new_previous_hash)\n",
    "\n",
    "newblock.__dict__"
   ]
  },
  {
   "cell_type": "code",
   "execution_count": 8,
   "id": "ccb25bef",
   "metadata": {},
   "outputs": [
    {
     "name": "stdout",
     "output_type": "stream",
     "text": [
      "Hash of newblock:  004847d28c01a542391533b736698ad65e8eedb2f7bc666cf82ed42f0859d24e\n"
     ]
    }
   ],
   "source": [
    "new_hash, tot_time = blockchain.proof_of_work(newblock)\n",
    "newblock.__dict__\n",
    "print(\"Hash of newblock: \", new_hash)"
   ]
  },
  {
   "cell_type": "code",
   "execution_count": 9,
   "id": "7f58bd75",
   "metadata": {},
   "outputs": [
    {
     "name": "stdout",
     "output_type": "stream",
     "text": [
      "Appended:  True\n"
     ]
    },
    {
     "data": {
      "text/plain": [
       "{'index': 1,\n",
       " 'transactions': [],\n",
       " 'timestamp': 1713779579.7152436,\n",
       " 'previous_hash': '938f85250dbce9b15d4bff9d66145103cf4e52d0589548324a73585145fe6e59',\n",
       " 'current_hash': '004847d28c01a542391533b736698ad65e8eedb2f7bc666cf82ed42f0859d24e',\n",
       " 'nonce': 192}"
      ]
     },
     "execution_count": 9,
     "metadata": {},
     "output_type": "execute_result"
    }
   ],
   "source": [
    "out = blockchain.append_block(newblock, new_hash)\n",
    "print(\"Appended: \", out)\n",
    "blockchain.last_block().__dict__"
   ]
  },
  {
   "cell_type": "code",
   "execution_count": 10,
   "id": "8632b295",
   "metadata": {},
   "outputs": [],
   "source": [
    "blockchain.add_new_transaction(\"data1\")\n",
    "blockchain.add_new_transaction(\"data2\")\n",
    "blockchain.add_new_transaction(\"data3\")"
   ]
  },
  {
   "cell_type": "code",
   "execution_count": 11,
   "id": "2adb27ef",
   "metadata": {},
   "outputs": [
    {
     "data": {
      "text/plain": [
       "['data1', 'data2', 'data3']"
      ]
     },
     "execution_count": 11,
     "metadata": {},
     "output_type": "execute_result"
    }
   ],
   "source": [
    "blockchain.unconfirmed_transactions"
   ]
  },
  {
   "cell_type": "code",
   "execution_count": 12,
   "id": "17bd5dcf",
   "metadata": {},
   "outputs": [
    {
     "name": "stdout",
     "output_type": "stream",
     "text": [
      "2\n"
     ]
    }
   ],
   "source": [
    "new_index = blockchain.mine()\n",
    "print(new_index) #The position of the new block in the chain"
   ]
  },
  {
   "cell_type": "code",
   "execution_count": 13,
   "id": "7c5744ae",
   "metadata": {},
   "outputs": [
    {
     "name": "stdout",
     "output_type": "stream",
     "text": [
      "Length of the BCh:  3\n"
     ]
    }
   ],
   "source": [
    "print(\"Length of the BCh: \", len(blockchain.chain))"
   ]
  },
  {
   "cell_type": "code",
   "execution_count": 14,
   "id": "e3bf7709",
   "metadata": {
    "scrolled": true
   },
   "outputs": [
    {
     "data": {
      "text/plain": [
       "{'index': 2,\n",
       " 'transactions': [],\n",
       " 'timestamp': 1713779580.4346123,\n",
       " 'previous_hash': '004847d28c01a542391533b736698ad65e8eedb2f7bc666cf82ed42f0859d24e',\n",
       " 'current_hash': '004fba67a405c64becb6701ffbbcf661be4de56dd7e5d3a045c25116c3dd7f58',\n",
       " 'nonce': 1130}"
      ]
     },
     "execution_count": 14,
     "metadata": {},
     "output_type": "execute_result"
    }
   ],
   "source": [
    "blockchain.last_block().__dict__"
   ]
  },
  {
   "cell_type": "markdown",
   "id": "76be3816",
   "metadata": {},
   "source": [
    "#### Chequeo de la cadena "
   ]
  },
  {
   "cell_type": "code",
   "execution_count": 15,
   "id": "c521fbd4",
   "metadata": {},
   "outputs": [],
   "source": [
    "def check_chain(chain):\n",
    "    \n",
    "    # for each block in the cahin\n",
    "    for i,b in enumerate(chain):\n",
    "        \n",
    "        # El genesis tiene un current_hash que no empieza por el patron (ignorar el genesis?)\n",
    "        current_hs = b.current_hash\n",
    "        delattr(b, 'current_hash')\n",
    "        \n",
    "        if i>0 and not blockchain.is_valid_proof(b, current_hs):\n",
    "            return False\n",
    "        \n",
    "        # i>0 to check if the block is not the genesis\n",
    "        if i>0 and b.previous_hash != bch.chain[b.index - 1].current_hash:\n",
    "            return False\n",
    "        \n",
    "        b.current_hash =  current_hs\n",
    "        return True"
   ]
  },
  {
   "cell_type": "code",
   "execution_count": 16,
   "id": "99ad47a7",
   "metadata": {
    "scrolled": true
   },
   "outputs": [
    {
     "data": {
      "text/plain": [
       "True"
      ]
     },
     "execution_count": 16,
     "metadata": {},
     "output_type": "execute_result"
    }
   ],
   "source": [
    "chain_to_check = blockchain.chain\n",
    "check_chain(chain_to_check)"
   ]
  },
  {
   "cell_type": "markdown",
   "id": "833890a8",
   "metadata": {},
   "source": [
    "#### Definición del API REST: Inserción de transacciones. "
   ]
  },
  {
   "cell_type": "code",
   "execution_count": 17,
   "id": "009b7538",
   "metadata": {},
   "outputs": [],
   "source": [
    "from flask import Flask, jsonify, request\n",
    "import pandas as pd\n",
    "\n",
    "app = Flask(__name__)\n",
    "peers = set()\n",
    "\n",
    "@app.route('/api/v1.0/new_transaction', methods=['POST'])\n",
    "def new_transaction():\n",
    "    \n",
    "    data =  request.get_json() \n",
    "    \n",
    "    if 'author' not in data and 'content' not in data:\n",
    "        return \"Invalid transaction data\", 404\n",
    "    \n",
    "    data['timestamp'] = time.time()\n",
    "    blockchain.add_new_transaction(data)\n",
    "    \n",
    "    return \"Success\", 201"
   ]
  },
  {
   "cell_type": "code",
   "execution_count": 18,
   "id": "8e591451",
   "metadata": {},
   "outputs": [],
   "source": [
    "#if __name__ == '__main__':\n",
    "#    app.run(port=8000)"
   ]
  },
  {
   "cell_type": "code",
   "execution_count": 19,
   "id": "5bdca57f",
   "metadata": {},
   "outputs": [
    {
     "data": {
      "text/plain": [
       "{'index': 2,\n",
       " 'transactions': [],\n",
       " 'timestamp': 1713779580.4346123,\n",
       " 'previous_hash': '004847d28c01a542391533b736698ad65e8eedb2f7bc666cf82ed42f0859d24e',\n",
       " 'current_hash': '004fba67a405c64becb6701ffbbcf661be4de56dd7e5d3a045c25116c3dd7f58',\n",
       " 'nonce': 1130}"
      ]
     },
     "execution_count": 19,
     "metadata": {},
     "output_type": "execute_result"
    }
   ],
   "source": [
    "blockchain.last_block().__dict__"
   ]
  },
  {
   "cell_type": "markdown",
   "id": "ad51fff7",
   "metadata": {},
   "source": [
    "#### Definición del API REST: Obtención de la cadena de bloques."
   ]
  },
  {
   "cell_type": "code",
   "execution_count": 20,
   "id": "dc341032",
   "metadata": {},
   "outputs": [],
   "source": [
    "@app.route('/api/v1.0/chain', methods=['GET'])\n",
    "def chain():\n",
    "    \n",
    "    chain_dict = []\n",
    "    for blok in blockchain.chain:\n",
    "        chain_dict.append(blok.__dict__)\n",
    "    \n",
    "    response = {\n",
    "        'length': len(chain_dict),\n",
    "        'chain': chain_dict,\n",
    "        'peers': list(peers)\n",
    "    }\n",
    "    \n",
    "    return jsonify(response), 200"
   ]
  },
  {
   "cell_type": "code",
   "execution_count": 21,
   "id": "e6a96e2b",
   "metadata": {},
   "outputs": [],
   "source": [
    "#if __name__ == '__main__':\n",
    "#    app.run(port=8000)"
   ]
  },
  {
   "cell_type": "markdown",
   "id": "1b48eb74",
   "metadata": {},
   "source": [
    "#### Definición del API REST: Minado de transacciones. "
   ]
  },
  {
   "cell_type": "code",
   "execution_count": 22,
   "id": "113dc6fa",
   "metadata": {},
   "outputs": [],
   "source": [
    "@app.route('/api/v1.0/mine', methods=['GET'])\n",
    "def mine():\n",
    "    \n",
    "    result = blockchain.mine()\n",
    "    \n",
    "    if (result == False):\n",
    "        \n",
    "        return \"No new blocks\", 404\n",
    "    \n",
    "    return \"Block #\" + str(result) + \" mined\", 200"
   ]
  },
  {
   "cell_type": "code",
   "execution_count": 23,
   "id": "739fb479",
   "metadata": {},
   "outputs": [],
   "source": [
    "#if __name__ == '__main__':\n",
    "#    app.run(port=8000)"
   ]
  },
  {
   "cell_type": "markdown",
   "id": "582f7c36",
   "metadata": {},
   "source": [
    "#### Definición del API REST: Transacciones sin confirmar. "
   ]
  },
  {
   "cell_type": "code",
   "execution_count": 24,
   "id": "255fa15a",
   "metadata": {},
   "outputs": [],
   "source": [
    "@app.route('/api/v1.0/pending_transactions', methods=['GET'])\n",
    "def pending_transactions():\n",
    "        \n",
    "    return jsonify(blockchain.unconfirmed_transactions), 200"
   ]
  },
  {
   "cell_type": "code",
   "execution_count": 25,
   "id": "7e62eb02",
   "metadata": {},
   "outputs": [],
   "source": [
    "#if __name__ == '__main__':\n",
    "#    app.run(port=8000)"
   ]
  },
  {
   "cell_type": "markdown",
   "id": "83f1d424",
   "metadata": {},
   "source": [
    "#### Definición del API REST: Registro de nuevos nodos. "
   ]
  },
  {
   "cell_type": "code",
   "execution_count": 26,
   "id": "0c7543a4",
   "metadata": {},
   "outputs": [],
   "source": [
    "@app.route('/api/v1.0/register_new_node', methods=['POST'])\n",
    "def register_new_node():\n",
    "    \n",
    "    data =  request.get_json() \n",
    "    \n",
    "    if 'new_node_address' not in data:\n",
    "        return \"Invalid data\", 400\n",
    "    \n",
    "    new_node_address = data['new_node_address']\n",
    "    peers.add(new_node_address)\n",
    "    \n",
    "    # Start new port\n",
    "    \n",
    "    \n",
    "    return chain()"
   ]
  },
  {
   "cell_type": "code",
   "execution_count": 27,
   "id": "aa022e65",
   "metadata": {},
   "outputs": [],
   "source": [
    "#if __name__ == '__main__':\n",
    "#    app.run(port=8000)"
   ]
  },
  {
   "cell_type": "code",
   "execution_count": 28,
   "id": "d8fae7a0",
   "metadata": {},
   "outputs": [],
   "source": [
    "@app.route('/api/v1.0/register_with_existing_node', methods=['POST'])\n",
    "def register_with_existing_node():\n",
    "    \n",
    "    data =  request.get_json() \n",
    "    \n",
    "    if 'node_address' not in data:\n",
    "        return \"Invalid data\", 400\n",
    "    \n",
    "    # Direccion nodo existente\n",
    "    node_address = data[\"node_address\"]\n",
    "    url = \"/api/v1.0/register_new_node\"\n",
    "    \n",
    "    # Nodo que quereos registrar\n",
    "    data = {\"new_node_address\": request.host_url}\n",
    "    headers = {'Content-Type': \"application/json\"}\n",
    "    \n",
    "    response = requests.post(url, json = data)\n",
    "    response_data = response.json()\n",
    "    \n",
    "    if response.status_code == 200:\n",
    "        \n",
    "        response_chain = response_data['chain']\n",
    "        new_bch = Blockchain()\n",
    "        \n",
    "        for i,blok in enumerate(new_bch):\n",
    "            \n",
    "            if i>0 and not new_bch.append_block(blok, blok.current_hash):\n",
    "                return \"Fallo al validar la cadena de bloques\", 500 \n",
    "    \n",
    "        peers.update(response_data[\"peers\"])\n",
    "        \n",
    "        return \"Registration successful\", 200\n",
    "    \n",
    "    else:\n",
    "        \n",
    "        return response.content, response.status_code"
   ]
  },
  {
   "cell_type": "code",
   "execution_count": 1,
   "id": "8bc4b2f7",
   "metadata": {},
   "outputs": [],
   "source": [
    "#if __name__ == '__main__':\n",
    "#    app.run(port=8000)"
   ]
  },
  {
   "cell_type": "code",
   "execution_count": null,
   "id": "451bb9c0",
   "metadata": {},
   "outputs": [],
   "source": []
  }
 ],
 "metadata": {
  "kernelspec": {
   "display_name": "Python 3 (ipykernel)",
   "language": "python",
   "name": "python3"
  },
  "language_info": {
   "codemirror_mode": {
    "name": "ipython",
    "version": 3
   },
   "file_extension": ".py",
   "mimetype": "text/x-python",
   "name": "python",
   "nbconvert_exporter": "python",
   "pygments_lexer": "ipython3",
   "version": "3.11.3"
  }
 },
 "nbformat": 4,
 "nbformat_minor": 5
}
