{
 "cells": [
  {
   "cell_type": "markdown",
   "id": "f85d0373",
   "metadata": {},
   "source": [
    "# Multithreading server"
   ]
  },
  {
   "cell_type": "code",
   "execution_count": 1,
   "id": "8fe90908",
   "metadata": {},
   "outputs": [],
   "source": [
    "def new_conn(conn):\n",
    "\n",
    "    packed = conn.recv(1024)\n",
    "    data = pickle.loads(packed)\n",
    "\n",
    "    print_lock.acquire()\n",
    "    print(data)\n",
    "    print_lock.release()\n",
    "\n",
    "    conn.sendall(pickle.dumps(\"Echo: \"+ data))\n",
    "\n",
    "    conn.close()"
   ]
  },
  {
   "cell_type": "code",
   "execution_count": null,
   "id": "c2d4b5d9",
   "metadata": {},
   "outputs": [
    {
     "name": "stdout",
     "output_type": "stream",
     "text": [
      "Introduce el puerto: 6780\n",
      "Waiting for clients...\n",
      "Listening to  ('localhost', 6780)\n",
      "New connection with client: 127.0.0.1 59033\n",
      "Waiting for clients...\n",
      "Listening to  ('localhost', 6780)\n",
      "New connection with client: 127.0.0.1 59034\n",
      "Waiting for clients...\n",
      "Listening to  ('localhost', 6780)\n",
      "mensaje2\n",
      "mensaje1\n",
      "New connection with client: 127.0.0.1 59035\n",
      "mensaje4\n",
      "Waiting for clients...\n",
      "Listening to  ('localhost', 6780)\n",
      "New connection with client: 127.0.0.1 59036\n",
      "Waiting for clients...\n",
      "Listening to  ('localhost', 6780)\n",
      "mensaje3\n",
      "New connection with client: 127.0.0.1 59037\n",
      "mensaje5\n",
      "Waiting for clients...\n",
      "Listening to  ('localhost', 6780)\n",
      "New connection with client: 127.0.0.1 59039\n",
      "Waiting for clients...\n",
      "Listening to  ('localhost', 6780)\n",
      "New connection with client: 127.0.0.1 59038\n",
      "Waiting for clients...\n",
      "Listening to  ('localhost', 6780)\n",
      "mensaje6\n",
      "mensaje7\n",
      "New connection with client: 127.0.0.1 59079\n",
      "Waiting for clients...\n",
      "Listening to  ('localhost', 6780)\n",
      "New connection with client: 127.0.0.1 59078\n",
      "Waiting for clients...\n",
      "Listening to  ('localhost', 6780)\n",
      "msg2\n",
      "msg1\n",
      "New connection with client: 127.0.0.1 59080\n",
      "Waiting for clients...\n",
      "Listening to  ('localhost', 6780)\n",
      "msg3\n"
     ]
    }
   ],
   "source": [
    "import socket\n",
    "import pickle\n",
    "import threading\n",
    "\n",
    "#Create a TCP/IP socket\n",
    "\n",
    "port = input(\"Introduce el puerto: \")\n",
    "print_lock = threading.Lock() \n",
    "\n",
    "while True:\n",
    "    try:\n",
    "        p = int(port)\n",
    "        break\n",
    "    except:\n",
    "        print(\"Puerto no válido\")\n",
    "        port = input(\"Introduce el puerto: \")\n",
    "\n",
    "sock = socket.socket(socket.AF_INET, socket.SOCK_STREAM)\n",
    "server_adress = ('localhost', p)\n",
    "sock.bind(server_adress)\n",
    "sock.listen(2)\n",
    "\n",
    "while True:\n",
    "    print(\"Waiting for clients...\")\n",
    "    print(\"Listening to \", server_adress)\n",
    "    \n",
    "    client_socket, address = sock.accept()\n",
    "    \n",
    "    print(\"New connection with client: \" + str(address[0]) + \" \" + str(address[1]))\n",
    "    \n",
    "    userHandler = threading.Thread(target=new_conn, args=(client_socket,))\n",
    "    userHandler.start()\n",
    "    \n",
    "        "
   ]
  },
  {
   "cell_type": "code",
   "execution_count": null,
   "id": "ce638338",
   "metadata": {},
   "outputs": [],
   "source": []
  }
 ],
 "metadata": {
  "kernelspec": {
   "display_name": "Python 3 (ipykernel)",
   "language": "python",
   "name": "python3"
  },
  "language_info": {
   "codemirror_mode": {
    "name": "ipython",
    "version": 3
   },
   "file_extension": ".py",
   "mimetype": "text/x-python",
   "name": "python",
   "nbconvert_exporter": "python",
   "pygments_lexer": "ipython3",
   "version": "3.11.3"
  }
 },
 "nbformat": 4,
 "nbformat_minor": 5
}
