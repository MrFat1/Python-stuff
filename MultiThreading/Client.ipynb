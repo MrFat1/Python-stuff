{
 "cells": [
  {
   "cell_type": "markdown",
   "id": "1c418ab5",
   "metadata": {},
   "source": [
    "# Multithreading client"
   ]
  },
  {
   "cell_type": "code",
   "execution_count": 1,
   "id": "3da4dcbd",
   "metadata": {},
   "outputs": [],
   "source": [
    "def client_thread(msg,server_adress):\n",
    "    \n",
    "    sock = socket.socket(socket.AF_INET, socket.SOCK_STREAM)\n",
    "    sock.connect(server_adress)\n",
    "    \n",
    "    print(\"Send: \", msg)\n",
    "    \n",
    "    sock.sendall(pickle.dumps(msg))\n",
    "    result = sock.recvfrom(1024)\n",
    "    \n",
    "    print_lock.acquire()\n",
    "    print(pickle.loads(result[0]))\n",
    "    print_lock.release()\n",
    "    \n",
    "    \n",
    "    sock.close()"
   ]
  },
  {
   "cell_type": "code",
   "execution_count": null,
   "id": "b2da7deb",
   "metadata": {},
   "outputs": [
    {
     "name": "stdout",
     "output_type": "stream",
     "text": [
      "Introduce la dirección a la que deseas conectarte: localhost\n",
      "Introduce el puerto al que deseas conectarte: 6780\n",
      "Introduce varios mensajes para enviar (finalizando con exit): mensaje1\n",
      "Introduce varios mensajes para enviar (finalizando con exit): mensaje2\n",
      "Introduce varios mensajes para enviar (finalizando con exit): mensaje3\n",
      "Introduce varios mensajes para enviar (finalizando con exit): mensaje4\n",
      "Introduce varios mensajes para enviar (finalizando con exit): mensaje5\n",
      "Introduce varios mensajes para enviar (finalizando con exit): mensaje6\n",
      "Introduce varios mensajes para enviar (finalizando con exit): mensaje7\n",
      "Introduce varios mensajes para enviar (finalizando con exit): exit\n",
      "Send: Send:  mensaje2\n",
      " mensaje1\n",
      "Echo: mensaje1\n",
      "Echo: mensaje2\n",
      "Send:  mensaje4\n",
      "Send:  mensaje3\n",
      "Echo: mensaje4\n",
      "Echo: mensaje3\n",
      "Send:  mensaje5\n",
      "Echo: mensaje5\n",
      "Send:  mensaje6\n",
      "Send:  mensaje7\n",
      "Echo: mensaje6\n",
      "Echo: mensaje7\n",
      "Introduce la dirección a la que deseas conectarte: localhost\n",
      "Introduce el puerto al que deseas conectarte: 6780\n",
      "Introduce varios mensajes para enviar (finalizando con exit): msg1\n",
      "Introduce varios mensajes para enviar (finalizando con exit): msg2\n",
      "Introduce varios mensajes para enviar (finalizando con exit): msg3\n",
      "Introduce varios mensajes para enviar (finalizando con exit): exit\n",
      "Send:  msg2\n",
      "Echo: msg2\n",
      "Send:  msg1\n",
      "Echo: msg1\n",
      "Send:  msg3\n",
      "Echo: msg3\n"
     ]
    }
   ],
   "source": [
    "import socket\n",
    "import sys\n",
    "import pickle\n",
    "import threading\n",
    "\n",
    "print_lock = threading.Lock()\n",
    "\n",
    "while True:\n",
    "    try:\n",
    "        ip = input(\"Introduce la dirección a la que deseas conectarte: \")\n",
    "        port = input(\"Introduce el puerto al que deseas conectarte: \")\n",
    "        \n",
    "        while True:\n",
    "            try:\n",
    "                p = int(port)\n",
    "                break\n",
    "            except:\n",
    "                print(\"Puerto no válido\")\n",
    "                port = input(\"Introduce el puerto: \")\n",
    "        \n",
    "        server_adress = (ip, p)\n",
    "        \n",
    "        msg = input(\"Introduce varios mensajes para enviar (finalizando con exit): \")\n",
    "        mensajes = []\n",
    "    \n",
    "        while msg != 'exit':\n",
    "            mensajes.append(msg)\n",
    "            msg = input(\"Introduce varios mensajes para enviar (finalizando con exit): \")            \n",
    "        \n",
    "        for m in mensajes:\n",
    "            msgHandler = threading.Thread(target=client_thread, args=(m,server_adress))\n",
    "            msgHandler.start()\n",
    "            \n",
    "    except (ConnectionRefusedError):\n",
    "        print(\"Timed Out\")\n",
    "        sock.close()\n",
    "        break"
   ]
  },
  {
   "cell_type": "code",
   "execution_count": null,
   "id": "03d8d4bc",
   "metadata": {},
   "outputs": [],
   "source": []
  }
 ],
 "metadata": {
  "kernelspec": {
   "display_name": "Python 3 (ipykernel)",
   "language": "python",
   "name": "python3"
  },
  "language_info": {
   "codemirror_mode": {
    "name": "ipython",
    "version": 3
   },
   "file_extension": ".py",
   "mimetype": "text/x-python",
   "name": "python",
   "nbconvert_exporter": "python",
   "pygments_lexer": "ipython3",
   "version": "3.11.3"
  }
 },
 "nbformat": 4,
 "nbformat_minor": 5
}
