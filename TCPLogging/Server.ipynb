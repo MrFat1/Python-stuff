{
 "cells": [
  {
   "cell_type": "markdown",
   "id": "f855ef44",
   "metadata": {},
   "source": [
    "## TCP Server"
   ]
  },
  {
   "cell_type": "code",
   "execution_count": 1,
   "id": "ec951311",
   "metadata": {},
   "outputs": [],
   "source": [
    "def logging(user, password):\n",
    "    with open(users, 'r') as check_users:\n",
    "        for line in check_users:\n",
    "            username, passw = line.strip().split(\":\")\n",
    "            if user == username and password == passw:\n",
    "                print('User: ' + user + \" successfully logged in.\")\n",
    "                welcomemsg = \"Welcome \" + user\n",
    "                conn.sendall(pickle.dumps(welcomemsg))\n",
    "                return\n",
    "            \n",
    "    print(\"User doesen't exist\")\n",
    "    msg = \"Incorrect user or password\"\n",
    "    conn.sendall(pickle.dumps(msg))\n",
    "                \n",
    "def register(user, password):\n",
    "    with open(users, 'r') as check_users:\n",
    "        for line in check_users:\n",
    "            username, passw = line.strip().split(\":\")\n",
    "            if user == username and password == passw:\n",
    "                print(\"User already exists\")\n",
    "                msg = \"This user is already registered\"\n",
    "                conn.sendall(pickle.dumps(msg))\n",
    "                return\n",
    "            \n",
    "    print(\"Atempting to register new user: \", user)\n",
    "    with open(users, 'a') as check_users:\n",
    "        check_users.write(f\"{user}:{password}\\n\")\n",
    "        print(\"New user registered: \", user)\n",
    "        conn.sendall(pickle.dumps(\"Succesfully registered\"))\n",
    "    "
   ]
  },
  {
   "cell_type": "code",
   "execution_count": 2,
   "id": "10cb8808",
   "metadata": {},
   "outputs": [],
   "source": [
    "#Guardamos en un diccionario de python user:socket (tal cual la variable socket) y mantenemos la conexión con eso."
   ]
  },
  {
   "cell_type": "code",
   "execution_count": null,
   "id": "64a52bda",
   "metadata": {},
   "outputs": [
    {
     "name": "stdout",
     "output_type": "stream",
     "text": [
      "Waiting for clients...\n",
      "Listening to  ('localhost', 6780)\n",
      "User: User 1 successfully logged in.\n",
      "Waiting for clients...\n",
      "Listening to  ('localhost', 6780)\n",
      "Waiting for clients...\n",
      "Listening to  ('localhost', 6780)\n"
     ]
    }
   ],
   "source": [
    "import socket\n",
    "import sys\n",
    "import pickle\n",
    "\n",
    "#Create a TCP/IP socket\n",
    "sock = socket.socket(socket.AF_INET, socket.SOCK_STREAM)\n",
    "server_adress = ('localhost', 6780)\n",
    "sock.bind(server_adress)\n",
    "\n",
    "#Saved as (user, password)\n",
    "users = \"usuarios.txt\"\n",
    "conections = {}\n",
    "\n",
    "while True:\n",
    "    print(\"Waiting for clients...\")\n",
    "    print(\"Listening to \", server_adress)\n",
    "    \n",
    "    sock.listen(1)\n",
    "    conn, address = sock.accept() #Acepta a un usuario\n",
    "    \n",
    "    packed = conn.recv(1024)\n",
    "    #print(\"Recieved packed: \", packed)\n",
    "    data = pickle.loads(packed)\n",
    "    \n",
    "    if (data[0] == \"LOGGING\"):\n",
    "        try:\n",
    "            \n",
    "            logging(str(data[1]), str(data[2]))\n",
    "            conections[str(data[1])] = conn\n",
    "            \n",
    "        except(NameError):\n",
    "            print(\"Function not defined\")\n",
    "        except:\n",
    "            print(\"Error while logging\")\n",
    "            conn.sendall(\"An unexpected error ocurred\".encode())\n",
    "            \n",
    "    elif (data[0] == \"REGISTER\"):\n",
    "        try:\n",
    "            register(str(data[1]), str(data[2]))\n",
    "\n",
    "        except(NameError):\n",
    "            print(\"Function not defined\")\n",
    "        except:\n",
    "            print(\"Error while registering new user\")\n",
    "            conn.sendall(\"An unexpected error ocurred\".encode())\n",
    "\n",
    "    \n",
    "    if (data[0] == \"EXIT\"):\n",
    "        msg = \"Bye\"\n",
    "        conn.sendall(pickle.dumps(msg))\n",
    "        \n",
    "        if (str(data[1]) in conections):\n",
    "            \n",
    "            conections[str(data[1])].close()\n",
    "            conections.pop(str(data[1]))\n",
    "        "
   ]
  },
  {
   "cell_type": "code",
   "execution_count": null,
   "id": "d597a8dd",
   "metadata": {},
   "outputs": [],
   "source": []
  }
 ],
 "metadata": {
  "kernelspec": {
   "display_name": "Python 3 (ipykernel)",
   "language": "python",
   "name": "python3"
  },
  "language_info": {
   "codemirror_mode": {
    "name": "ipython",
    "version": 3
   },
   "file_extension": ".py",
   "mimetype": "text/x-python",
   "name": "python",
   "nbconvert_exporter": "python",
   "pygments_lexer": "ipython3",
   "version": "3.11.3"
  }
 },
 "nbformat": 4,
 "nbformat_minor": 5
}
