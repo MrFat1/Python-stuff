{
 "cells": [
  {
   "cell_type": "markdown",
   "id": "6e9b390e",
   "metadata": {},
   "source": [
    "## TCP Client"
   ]
  },
  {
   "cell_type": "code",
   "execution_count": 1,
   "id": "e348c5dc",
   "metadata": {},
   "outputs": [
    {
     "name": "stdout",
     "output_type": "stream",
     "text": [
      "Introduce la acción: LOGGING\n",
      "Introduce tu Usuario: User 1\n",
      "Introduce tu Contraseña: user123\n",
      "Welcome User 1\n",
      "Introduce la acción: EXIT\n",
      "Introduce tu Usuario: User 1\n",
      "Introduce tu Contraseña: user123\n",
      "Bye\n"
     ]
    }
   ],
   "source": [
    "import socket\n",
    "import sys\n",
    "import pickle\n",
    "import time\n",
    "\n",
    "ip = 'localhost'\n",
    "port = 6780\n",
    "\n",
    "# Pre configured User and Password\n",
    "# user = 'User 1'\n",
    "# password = 'user123'\n",
    "\n",
    "#Create a TCP/IP socket\n",
    "while True:\n",
    "    try:\n",
    "        sock = socket.socket(socket.AF_INET, socket.SOCK_STREAM)\n",
    "        server_adress = (ip, port)\n",
    "        sock.connect(server_adress)\n",
    "\n",
    "        action = input(\"Introduce la acción: \")\n",
    "        user = input(\"Introduce tu Usuario: \")\n",
    "        password = input(\"Introduce tu Contraseña: \")\n",
    "\n",
    "\n",
    "        if (action == \"REGISTER\"):\n",
    "            data_pack = (action, user, password)\n",
    "            packed = pickle.dumps(data_pack)\n",
    "\n",
    "        elif(action == \"LOGGING\"):\n",
    "            data_pack = (action, user, password)\n",
    "            packed = pickle.dumps(data_pack)\n",
    "\n",
    "        elif(action == \"EXIT\"):\n",
    "            data_pack = (action, user)\n",
    "            packed = pickle.dumps(data_pack)\n",
    "            sock.sendall(packed)\n",
    "            result = sock.recvfrom(1024)\n",
    "            \n",
    "            print(pickle.loads(result[0]))\n",
    "            sock.close()\n",
    "            break\n",
    "\n",
    "        else:\n",
    "            print(\"Las acciones disponibles son: REGISTER, LOGGING y EXIT\")\n",
    "            continue\n",
    "            \n",
    "        sock.sendall(packed)\n",
    "        result = sock.recvfrom(1024)\n",
    "        print(pickle.loads(result[0]))\n",
    "            \n",
    "    except (ConnectionRefusedError):\n",
    "        print(\"Waiting for server...\")\n",
    "        time.sleep(5)\n",
    "        print(\"Timed Out\")\n",
    "        sock.close()\n",
    "        break"
   ]
  },
  {
   "cell_type": "code",
   "execution_count": null,
   "id": "37936adf",
   "metadata": {},
   "outputs": [],
   "source": []
  }
 ],
 "metadata": {
  "kernelspec": {
   "display_name": "Python 3 (ipykernel)",
   "language": "python",
   "name": "python3"
  },
  "language_info": {
   "codemirror_mode": {
    "name": "ipython",
    "version": 3
   },
   "file_extension": ".py",
   "mimetype": "text/x-python",
   "name": "python",
   "nbconvert_exporter": "python",
   "pygments_lexer": "ipython3",
   "version": "3.11.3"
  }
 },
 "nbformat": 4,
 "nbformat_minor": 5
}
